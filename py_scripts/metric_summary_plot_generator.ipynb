{
 "cells": [
  {
   "cell_type": "code",
   "execution_count": 54,
   "metadata": {},
   "outputs": [],
   "source": [
    "import pandas as pd\n",
    "import matplotlib.pyplot as plt\n",
    "from pathlib import Path\n",
    "import os\n",
    "\n",
    "#Tools \n",
    "def transform_csv(input_file, column_rename_map, column_transform_map, output_file):\n",
    "    \"\"\"\n",
    "    Transforms a CSV file by renaming columns and applying transformations to their values.\n",
    "    \n",
    "    Parameters:\n",
    "        input_file (str): Path to the input CSV file.\n",
    "        column_rename_map (dict): Dictionary mapping old column names to new names.\n",
    "        column_transform_map (dict): Dictionary mapping column names to transformation functions.\n",
    "        output_file (str): Path to save the transformed CSV file.\n",
    "        \n",
    "    Returns:\n",
    "        str: Path to the transformed CSV file.\n",
    "    \"\"\"\n",
    "    # Load the CSV file\n",
    "    df = pd.read_csv(input_file)\n",
    "    \n",
    "    # Rename columns\n",
    "    df.rename(columns=column_rename_map, inplace=True)\n",
    "    \n",
    "    # Apply transformations\n",
    "    for column, transform_func in column_transform_map.items():\n",
    "        if column in df.columns:\n",
    "            df[column] = df[column].apply(transform_func)\n",
    "    \n",
    "    # Save the transformed DataFrame to a new CSV\n",
    "    df.to_csv(output_file, index=False)\n",
    "    return output_file\n",
    "\n",
    "def plot_columns(csv_path, x_col, y_col, path_dir,altitude):\n",
    "    # Load the data\n",
    "    df = pd.read_csv(csv_path)\n",
    "    # Plot name\n",
    "    base_name = os.path.splitext(os.path.basename(csv_path))[0]\n",
    "    output_file = os.path.join(path_dir, f\"{base_name}_{x_col}_vs_{y_col}.png\")\n",
    "    print(output_file)\n",
    "\n",
    "    # Plot configuration\n",
    "    plt.figure(figsize=(10, 6))\n",
    "    plt.plot(df[x_col], df[y_col], marker='o', linestyle='-', color='b', label=f\"{y_col} vs {x_col}\")\n",
    "    \n",
    "    # Aesthetic adjustments\n",
    "    plt.title(f\"{y_col} vs {x_col} at Altitude = {altitude} km\", fontsize=16, fontweight='bold')\n",
    "    plt.xlabel(x_col, fontsize=14)\n",
    "    plt.ylabel(y_col, fontsize=14)\n",
    "    plt.grid(True, which='both', linestyle='--', linewidth=0.5)\n",
    "    plt.xticks(fontsize=12)\n",
    "    plt.yticks(fontsize=12)\n",
    "    #plt.legend(fontsize=12)\n",
    "    plt.tight_layout()\n",
    "        \n",
    "    # Adjust the legend for the best fit\n",
    "    #plt.legend(fontsize=12, loc='best', frameon=True, edgecolor='black')\n",
    "    \n",
    "    # Tight layout for better spacing\n",
    "    plt.tight_layout()\n",
    "    \n",
    "    # Save the plot\n",
    "    plt.savefig(output_file, dpi=300)\n",
    "    plt.close()\n",
    "    return f\"Plot saved to {output_file}\"\n",
    "\n",
    "# Apply transformations and save to a new CSV\n",
    "# Rename columns\n",
    "column_rename_map = {\n",
    "    \"inc\": \"Inclination [°]\",\n",
    "    \"percentage_of_access\": \"Percentage of access [%]\",\n",
    "    \"min_duration\": \"Minimum duration [s]\",\n",
    "    \"max_duration\": \"Maximum duration [s]\",\n",
    "    \"avg_duration\": \"Average contact duration [min]\",\n",
    "    \"min_waiting_time\": \"Minimum wating time [s]\",\n",
    "    \"max_waiting_time\": \"Maximum waiting time [s]\", \n",
    "    \"avg_waiting_time\" : \"Average waiting time [s]\" ,\n",
    "    \"frequency\": \"Frequency\"\n",
    "}\n",
    "\n",
    "# Transform column values (e.g., convert ms to seconds, percentages to decimals)\n",
    "column_transform_map = {\n",
    "    \"Percentage of access [%]\": lambda x: x*100, # Convert to percentage \n",
    "    \"Average contact duration [min]\": lambda x: x//60 # Convert to percentage \n",
    "}\n"
   ]
  },
  {
   "cell_type": "code",
   "execution_count": 55,
   "metadata": {},
   "outputs": [
    {
     "name": "stdout",
     "output_type": "stream",
     "text": [
      "Transformed CSV saved to ..\\outputs\\metrics_summary_transformed_400.csv\n",
      "..\\img\\metrics_summary_transformed_400_Inclination [°]_vs_Percentage of access [%].png\n",
      "..\\img\\metrics_summary_transformed_400_Inclination [°]_vs_Average contact duration [min].png\n"
     ]
    },
    {
     "data": {
      "text/plain": [
       "'Plot saved to ..\\\\img\\\\metrics_summary_transformed_400_Inclination [°]_vs_Average contact duration [min].png'"
      ]
     },
     "execution_count": 55,
     "metadata": {},
     "output_type": "execute_result"
    }
   ],
   "source": [
    "# Altitude 400km \n",
    "\n",
    "altitude = 400\n",
    "input_file = os.path.join(\"..\", \"outputs\", \"metrics_summary_400.csv\")  # \"../inputs/input_file.csv\"\n",
    "output_file = os.path.join(\"..\", \"outputs\", \"metrics_summary_transformed_400.csv\")  # \"../outputs/output_file.csv\"\n",
    "img_file = os.path.join(\"..\", \"img\")  # \"../outputs/output_file.csv\"\n",
    "\n",
    "transformed_file = transform_csv(input_file, column_rename_map, column_transform_map, output_file)\n",
    "print(f\"Transformed CSV saved to {transformed_file}\")\n",
    "\n",
    "#Inclination vs Percentage of acces \n",
    "example_x = 'Inclination [°]'                  # Column for the x-axis\n",
    "example_y = 'Percentage of access [%]'         # Column for the y-axis\n",
    "\n",
    "# Generate the plot\n",
    "plot_columns(transformed_file, example_x, example_y, img_file,altitude)\n",
    "\n",
    "#Inclination vs Percentage of acces \n",
    "example_x = 'Inclination [°]'                  # Column for the x-axis\n",
    "example_y = 'Average contact duration [min]'         # Column for the y-axis\n",
    "\n",
    "# Generate the plot\n",
    "plot_columns(transformed_file, example_x, example_y, img_file,altitude)\n"
   ]
  },
  {
   "cell_type": "code",
   "execution_count": 56,
   "metadata": {},
   "outputs": [
    {
     "name": "stdout",
     "output_type": "stream",
     "text": [
      "Transformed CSV saved to ..\\outputs\\metrics_summary_transformed_750.csv\n",
      "..\\img\\metrics_summary_transformed_750_Inclination [°]_vs_Percentage of access [%].png\n",
      "..\\img\\metrics_summary_transformed_750_Inclination [°]_vs_Average contact duration [min].png\n"
     ]
    },
    {
     "data": {
      "text/plain": [
       "'Plot saved to ..\\\\img\\\\metrics_summary_transformed_750_Inclination [°]_vs_Average contact duration [min].png'"
      ]
     },
     "execution_count": 56,
     "metadata": {},
     "output_type": "execute_result"
    }
   ],
   "source": [
    "# Altitude 750km \n",
    "\n",
    "altitude = 750\n",
    "input_file = os.path.join(\"..\", \"outputs\", \"metrics_summary_750.csv\")  # \"../inputs/input_file.csv\"\n",
    "output_file = os.path.join(\"..\", \"outputs\", \"metrics_summary_transformed_750.csv\")  # \"../outputs/output_file.csv\"\n",
    "img_file = os.path.join(\"..\", \"img\")  # \"../outputs/output_file.csv\"\n",
    "\n",
    "transformed_file = transform_csv(input_file, column_rename_map, column_transform_map, output_file)\n",
    "print(f\"Transformed CSV saved to {transformed_file}\")\n",
    "\n",
    "#Inclination vs Percentage of acces \n",
    "example_x = 'Inclination [°]'                  # Column for the x-axis\n",
    "example_y = 'Percentage of access [%]'         # Column for the y-axis\n",
    "\n",
    "# Generate the plot\n",
    "plot_columns(transformed_file, example_x, example_y, img_file,altitude)\n",
    "\n",
    "#Inclination vs Percentage of acces \n",
    "example_x = 'Inclination [°]'                  # Column for the x-axis\n",
    "example_y = 'Average contact duration [min]'         # Column for the y-axis\n",
    "\n",
    "# Generate the plot\n",
    "plot_columns(transformed_file, example_x, example_y, img_file,altitude)\n"
   ]
  }
 ],
 "metadata": {
  "kernelspec": {
   "display_name": "Python 3",
   "language": "python",
   "name": "python3"
  },
  "language_info": {
   "codemirror_mode": {
    "name": "ipython",
    "version": 3
   },
   "file_extension": ".py",
   "mimetype": "text/x-python",
   "name": "python",
   "nbconvert_exporter": "python",
   "pygments_lexer": "ipython3",
   "version": "3.11.9"
  }
 },
 "nbformat": 4,
 "nbformat_minor": 2
}
